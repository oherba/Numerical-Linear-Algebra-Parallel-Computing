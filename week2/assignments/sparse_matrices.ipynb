{
 "cells": [
  {
   "cell_type": "markdown",
   "id": "aea03da3",
   "metadata": {},
   "source": [
    "In this assignement, feel free to use the `sparse` module from `scipy`."
   ]
  },
  {
   "cell_type": "markdown",
   "id": "2df42bcc",
   "metadata": {},
   "source": [
    "Use the cell below for your imports."
   ]
  },
  {
   "cell_type": "code",
   "execution_count": 18,
   "id": "e9644e55",
   "metadata": {},
   "outputs": [],
   "source": [
    "import numpy as np\n",
    "from scipy.sparse import coo_matrix\n",
    "from scipy.sparse import csr_matrix\n",
    "from itertools import zip_longest\n",
    "from numpy.testing import assert_array_equal"
   ]
  },
  {
   "cell_type": "markdown",
   "id": "8948a816",
   "metadata": {},
   "source": [
    "implement the function `mat_mul_coo` that takes two sparse matrices in `coo` and returns their product."
   ]
  },
  {
   "cell_type": "code",
   "execution_count": 19,
   "id": "6047ee0e",
   "metadata": {},
   "outputs": [],
   "source": [
    "def mat_mul_coo(A, B):\n",
    "    # Check if dimensions of input matrices match\n",
    "    assert A.shape[1] == B.shape[0], \"Error: The dimensions of the matrices being multiplied do not match.\"\n",
    "    \n",
    "    # Convert input matrices to COO format\n",
    "    A_coo = coo_matrix(A)\n",
    "    B_coo = coo_matrix(B)\n",
    "\n",
    "    # Extract data, row indices, and column indices of input matrices\n",
    "    A_data = A_coo.data\n",
    "    A_row = A_coo.row\n",
    "    A_col = A_coo.col\n",
    "\n",
    "    B_data = B_coo.data\n",
    "    B_row = B_coo.row\n",
    "    B_col = B_coo.col\n",
    "\n",
    "    # Create a dictionary to store the product of A and B\n",
    "    product_dict = {}\n",
    "    \n",
    "    # Loop through rows of A\n",
    "    for i in range(A.shape[0]):\n",
    "        # Find the indices of non-zero elements in the i-th row of A\n",
    "        indices_A = np.where(A_row == i)[0]\n",
    "        # Loop through columns of B\n",
    "        for j in range(B.shape[1]):\n",
    "            # Find the indices of non-zero elements in the j-th column of B\n",
    "            indices_B = np.where(B_col == j)[0]\n",
    "            # Compute the product of the i-th row of A and the j-th column of B\n",
    "            product = 0\n",
    "            for k in indices_A:\n",
    "                if A_col[k] in indices_B:\n",
    "                    # Multiply corresponding values\n",
    "                    product += A_data[k] * B_data[np.where((B_row == A_col[k]) & (B_col == j))[0][0]]\n",
    "            if product != 0:\n",
    "                product_dict[(i, j)] = product\n",
    "                \n",
    "    # Convert the dictionary to COO format and return the result\n",
    "    product_row, product_col, product_data = [], [], []\n",
    "    for (i, j), value in product_dict.items():\n",
    "        product_row.append(i)\n",
    "        product_col.append(j)\n",
    "        product_data.append(value)\n",
    "    product = coo_matrix((product_data, (product_row, product_col)), shape=(A.shape[0], B.shape[1]))\n",
    "    return product\n"
   ]
  },
  {
   "cell_type": "code",
   "execution_count": 20,
   "id": "174649ea",
   "metadata": {},
   "outputs": [
    {
     "name": "stdout",
     "output_type": "stream",
     "text": [
      "[[0 1 0]\n",
      " [0 0 6]\n",
      " [6 0 0]]\n"
     ]
    }
   ],
   "source": [
    "A = np.array([[1, 0, 0], [0, 0, 2], [0, 3, 0]])\n",
    "B = np.array([[0, 1, 0], [2, 0, 0], [0, 0, 3]])\n",
    "product = mat_mul_coo(A, B)\n",
    "print(product.toarray())\n"
   ]
  },
  {
   "cell_type": "markdown",
   "id": "4a626dec",
   "metadata": {},
   "source": [
    "implement the function `mat_mul_csr` that takes two sparse matrices in `csr` format and returns their product."
   ]
  },
  {
   "cell_type": "code",
   "execution_count": 21,
   "id": "982fc112",
   "metadata": {},
   "outputs": [],
   "source": [
    "\n",
    "def mat_mul_csr(A, B):\n",
    "    # Check that A and B can be multiplied\n",
    "    if A.shape[1] != B.shape[0]:\n",
    "        raise ValueError(\"Error: The dimensions of the matrices being multiplied do not match.\")\n",
    "    \n",
    "    rows_result = []\n",
    "    cols_result = []\n",
    "    data_result = []\n",
    "    ptrs_result = [0]\n",
    "    \n",
    "    for i in range(A.shape[0]):\n",
    "        for j in range(B.shape[1]):\n",
    "            dot_product = 0\n",
    "            for k_A in range(A.indptr[i], A.indptr[i+1]):\n",
    "                k_B = B.indptr[A.indices[k_A]]\n",
    "                while k_B < B.indptr[A.indices[k_A]+1] and B.indices[k_B] <= j:\n",
    "                    if B.indices[k_B] == j:\n",
    "                        dot_product += A.data[k_A] * B.data[k_B]\n",
    "                    k_B += 1\n",
    "            if dot_product != 0:\n",
    "                rows_result.append(i)\n",
    "                cols_result.append(j)\n",
    "                data_result.append(dot_product)\n",
    "        ptrs_result.append(len(data_result))\n",
    "    \n",
    "    result = csr_matrix((data_result, (rows_result, cols_result)), shape=(A.shape[0], B.shape[1]))\n",
    "    result.indptr = np.array(ptrs_result)\n",
    "    \n",
    "    return result\n",
    "\n",
    "\n"
   ]
  },
  {
   "cell_type": "code",
   "execution_count": 25,
   "id": "c2e56fbd",
   "metadata": {},
   "outputs": [],
   "source": [
    "def test_mat_mul_csr():\n",
    "    # Test case 1\n",
    "    A = csr_matrix(np.array([[0, 2, 0], [1, 0, 0], [0, 0, 3]]))\n",
    "    B = csr_matrix(np.array([[0, 1], [2, 0], [0, 3]]))\n",
    "    expected_result = csr_matrix(np.array([[4, 0], [0, 1], [0, 9]]))\n",
    "    assert_array_equal(mat_mul_csr(A, B).toarray(), expected_result.toarray())\n",
    "\n",
    "    # Test case 2\n",
    "    A = csr_matrix(np.array([[0, 0, 0], [1, 0, 0], [0, 2, 0], [0, 0, 3]]))\n",
    "    B = csr_matrix(np.array([[0, 0], [0, 0], [0, 0]]))\n",
    "    expected_result = csr_matrix(np.array([[0, 0], [0, 0], [0, 0], [0, 0]]))\n",
    "    assert_array_equal(mat_mul_csr(A, B).toarray(), expected_result.toarray())\n",
    "\n",
    "    # Test case 3\n",
    "    A = csr_matrix(np.array([[1, 2], [3, 4]]))\n",
    "    B = csr_matrix(np.array([[5, 6], [7, 8]]))\n",
    "    expected_result = csr_matrix(np.array([[19, 22], [43, 50]]))\n",
    "    assert_array_equal(mat_mul_csr(A, B).toarray(), expected_result.toarray())\n",
    "test_mat_mul_csr()\n"
   ]
  },
  {
   "cell_type": "markdown",
   "id": "9592a90b",
   "metadata": {},
   "source": [
    "implement a function `solve_lin_sys` that takes a matrix `A` in `csr` format and a vector `b` as a numpy array and solves the system `Ax = b`."
   ]
  },
  {
   "cell_type": "code",
   "execution_count": 28,
   "id": "00edeb4c",
   "metadata": {},
   "outputs": [],
   "source": [
    "# Function to solve linear system Ax=b\n",
    "def solve_lin_sys(A_data, A_indices, A_indptr, b):\n",
    "    \n",
    "    A = csr_matrix((A_data, A_indices, A_indptr)).toarray()\n",
    "    n = A.shape[0]\n",
    "    \n",
    "    \n",
    "    # Gaussian elimination \n",
    "    for i in range(n):\n",
    "        # Find the row with the largest absolute value in current column\n",
    "        max_row = i\n",
    "        for j in range(i+1, n):\n",
    "            if abs(A[j][i]) > abs(A[max_row][i]):\n",
    "                max_row = j\n",
    "                \n",
    "        # Swap rows \n",
    "        if A[max_row][i] == 0:\n",
    "            return None  \n",
    "        if i != max_row:\n",
    "            A[i], A[max_row] = A[max_row], A[i]\n",
    "            b[i], b[max_row] = b[max_row], b[i]\n",
    "            \n",
    "        \n",
    "        # Eliminate current column in rows below pivot row\n",
    "        for j in range(i+1, n):\n",
    "            factor = A[j][i] / A[i][i]\n",
    "            for k in range(i, n):\n",
    "                A[j][k] -= factor * A[i][k]\n",
    "            b[j] -= factor * b[i]\n",
    "    \n",
    "    # Check for zero pivot elements in the upper triangular matrix\n",
    "    for i in range(n):\n",
    "        if A[i][i] == 0:\n",
    "            return None  \n",
    "    \n",
    "    # solve the system\n",
    "    x = [0] * n\n",
    "    for i in range(n-1, -1, -1):\n",
    "        x[i] = b[i]\n",
    "        for j in range(i+1, n):\n",
    "            x[i] -= A[i][j] * x[j]\n",
    "        x[i] /= A[i][i]\n",
    "    \n",
    "    return x\n"
   ]
  },
  {
   "cell_type": "code",
   "execution_count": 29,
   "id": "0a0c81bf",
   "metadata": {},
   "outputs": [],
   "source": [
    "def test_solve_lin_sys():\n",
    "    A_data = np.array([1, 2, 3, 4, 5, 6, 7, 8, 9])\n",
    "    A_indices = np.array([0, 1, 2, 0, 1, 2, 0, 1, 2])\n",
    "    A_indptr = np.array([0, 3, 6, 9])\n",
    "    A = csr_matrix((A_data, A_indices, A_indptr), shape=(3, 3))\n",
    "    b = np.array([3, 6, 9])\n",
    "\n",
    "    # Expected solution: [0, 0, 1]\n",
    "    x = solve_lin_sys(A, b)\n",
    "    assert np.allclose(x, np.array([0, 0, 1]))"
   ]
  },
  {
   "cell_type": "code",
   "execution_count": null,
   "id": "4a9afc8f",
   "metadata": {},
   "outputs": [],
   "source": []
  }
 ],
 "metadata": {
  "kernelspec": {
   "display_name": "Python 3 (ipykernel)",
   "language": "python",
   "name": "python3"
  },
  "language_info": {
   "codemirror_mode": {
    "name": "ipython",
    "version": 3
   },
   "file_extension": ".py",
   "mimetype": "text/x-python",
   "name": "python",
   "nbconvert_exporter": "python",
   "pygments_lexer": "ipython3",
   "version": "3.8.13"
  }
 },
 "nbformat": 4,
 "nbformat_minor": 5
}
